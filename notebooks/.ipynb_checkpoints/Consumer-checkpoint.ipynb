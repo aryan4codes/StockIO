{
 "cells": [
  {
   "cell_type": "code",
   "execution_count": 9,
   "id": "5f3ece45-5fbb-4f19-bc4a-63c92680426f",
   "metadata": {},
   "outputs": [
    {
     "name": "stderr",
     "output_type": "stream",
     "text": [
      "ERROR: pip's dependency resolver does not currently take into account all the packages that are installed. This behaviour is the source of the following dependency conflicts.\n",
      "llama-index-llms-huggingface 0.2.3 requires torch<3.0.0,>=2.1.2, which is not installed.\n",
      "pytorch-lightning 2.1.4 requires torch>=1.12.0, which is not installed.\n",
      "sentence-transformers 2.3.1 requires torch>=1.11.0, which is not installed.\n",
      "timm 0.9.12 requires torch>=1.7, which is not installed.\n",
      "timm 0.9.12 requires torchvision, which is not installed.\n"
     ]
    },
    {
     "name": "stdout",
     "output_type": "stream",
     "text": [
      "Collecting s3fs\n",
      "  Downloading s3fs-2024.6.1-py3-none-any.whl.metadata (1.6 kB)\n",
      "Collecting aiobotocore<3.0.0,>=2.5.4 (from s3fs)\n",
      "  Downloading aiobotocore-2.13.1-py3-none-any.whl.metadata (22 kB)\n",
      "Collecting fsspec==2024.6.1.* (from s3fs)\n",
      "  Downloading fsspec-2024.6.1-py3-none-any.whl.metadata (11 kB)\n",
      "Requirement already satisfied: aiohttp!=4.0.0a0,!=4.0.0a1 in c:\\users\\aryan\\anaconda3\\lib\\site-packages (from s3fs) (3.9.3)\n",
      "Collecting botocore<1.34.132,>=1.34.70 (from aiobotocore<3.0.0,>=2.5.4->s3fs)\n",
      "  Downloading botocore-1.34.131-py3-none-any.whl.metadata (5.7 kB)\n",
      "Requirement already satisfied: wrapt<2.0.0,>=1.10.10 in c:\\users\\aryan\\anaconda3\\lib\\site-packages (from aiobotocore<3.0.0,>=2.5.4->s3fs) (1.14.1)\n",
      "Collecting aioitertools<1.0.0,>=0.5.1 (from aiobotocore<3.0.0,>=2.5.4->s3fs)\n",
      "  Downloading aioitertools-0.11.0-py3-none-any.whl.metadata (3.3 kB)\n",
      "Requirement already satisfied: aiosignal>=1.1.2 in c:\\users\\aryan\\anaconda3\\lib\\site-packages (from aiohttp!=4.0.0a0,!=4.0.0a1->s3fs) (1.3.1)\n",
      "Requirement already satisfied: attrs>=17.3.0 in c:\\users\\aryan\\anaconda3\\lib\\site-packages (from aiohttp!=4.0.0a0,!=4.0.0a1->s3fs) (23.1.0)\n",
      "Requirement already satisfied: frozenlist>=1.1.1 in c:\\users\\aryan\\anaconda3\\lib\\site-packages (from aiohttp!=4.0.0a0,!=4.0.0a1->s3fs) (1.3.3)\n",
      "Requirement already satisfied: multidict<7.0,>=4.5 in c:\\users\\aryan\\anaconda3\\lib\\site-packages (from aiohttp!=4.0.0a0,!=4.0.0a1->s3fs) (6.0.4)\n",
      "Requirement already satisfied: yarl<2.0,>=1.0 in c:\\users\\aryan\\anaconda3\\lib\\site-packages (from aiohttp!=4.0.0a0,!=4.0.0a1->s3fs) (1.9.2)\n",
      "Requirement already satisfied: async-timeout<5.0,>=4.0 in c:\\users\\aryan\\anaconda3\\lib\\site-packages (from aiohttp!=4.0.0a0,!=4.0.0a1->s3fs) (4.0.3)\n",
      "Requirement already satisfied: jmespath<2.0.0,>=0.7.1 in c:\\users\\aryan\\anaconda3\\lib\\site-packages (from botocore<1.34.132,>=1.34.70->aiobotocore<3.0.0,>=2.5.4->s3fs) (1.0.1)\n",
      "Requirement already satisfied: python-dateutil<3.0.0,>=2.1 in c:\\users\\aryan\\anaconda3\\lib\\site-packages (from botocore<1.34.132,>=1.34.70->aiobotocore<3.0.0,>=2.5.4->s3fs) (2.9.0.post0)\n",
      "Requirement already satisfied: urllib3!=2.2.0,<3,>=1.25.4 in c:\\users\\aryan\\anaconda3\\lib\\site-packages (from botocore<1.34.132,>=1.34.70->aiobotocore<3.0.0,>=2.5.4->s3fs) (2.0.2)\n",
      "Requirement already satisfied: idna>=2.0 in c:\\users\\aryan\\anaconda3\\lib\\site-packages (from yarl<2.0,>=1.0->aiohttp!=4.0.0a0,!=4.0.0a1->s3fs) (3.7)\n",
      "Requirement already satisfied: six>=1.5 in c:\\users\\aryan\\anaconda3\\lib\\site-packages (from python-dateutil<3.0.0,>=2.1->botocore<1.34.132,>=1.34.70->aiobotocore<3.0.0,>=2.5.4->s3fs) (1.16.0)\n",
      "Downloading s3fs-2024.6.1-py3-none-any.whl (29 kB)\n",
      "Downloading fsspec-2024.6.1-py3-none-any.whl (177 kB)\n",
      "   ---------------------------------------- 0.0/177.6 kB ? eta -:--:--\n",
      "   --------------------------------------- 177.6/177.6 kB 10.5 MB/s eta 0:00:00\n",
      "Downloading aiobotocore-2.13.1-py3-none-any.whl (76 kB)\n",
      "   ---------------------------------------- 0.0/76.9 kB ? eta -:--:--\n",
      "   ---------------------------------------- 76.9/76.9 kB 4.2 MB/s eta 0:00:00\n",
      "Downloading aioitertools-0.11.0-py3-none-any.whl (23 kB)\n",
      "Downloading botocore-1.34.131-py3-none-any.whl (12.3 MB)\n",
      "   ---------------------------------------- 0.0/12.3 MB ? eta -:--:--\n",
      "   - -------------------------------------- 0.4/12.3 MB 8.9 MB/s eta 0:00:02\n",
      "   -- ------------------------------------- 0.9/12.3 MB 9.4 MB/s eta 0:00:02\n",
      "   ---- ----------------------------------- 1.4/12.3 MB 10.0 MB/s eta 0:00:02\n",
      "   ------ --------------------------------- 1.9/12.3 MB 10.2 MB/s eta 0:00:02\n",
      "   ------- -------------------------------- 2.4/12.3 MB 10.4 MB/s eta 0:00:01\n",
      "   --------- ------------------------------ 3.0/12.3 MB 10.6 MB/s eta 0:00:01\n",
      "   ----------- ---------------------------- 3.5/12.3 MB 10.7 MB/s eta 0:00:01\n",
      "   ------------ --------------------------- 3.9/12.3 MB 10.4 MB/s eta 0:00:01\n",
      "   -------------- ------------------------- 4.4/12.3 MB 10.7 MB/s eta 0:00:01\n",
      "   -------------- ------------------------- 4.6/12.3 MB 10.1 MB/s eta 0:00:01\n",
      "   ---------------- ----------------------- 5.1/12.3 MB 10.3 MB/s eta 0:00:01\n",
      "   ------------------ --------------------- 5.6/12.3 MB 10.2 MB/s eta 0:00:01\n",
      "   ------------------- -------------------- 6.1/12.3 MB 10.3 MB/s eta 0:00:01\n",
      "   --------------------- ------------------ 6.6/12.3 MB 10.3 MB/s eta 0:00:01\n",
      "   ---------------------- ----------------- 7.0/12.3 MB 10.2 MB/s eta 0:00:01\n",
      "   ------------------------ --------------- 7.6/12.3 MB 10.3 MB/s eta 0:00:01\n",
      "   -------------------------- ------------- 8.0/12.3 MB 10.3 MB/s eta 0:00:01\n",
      "   --------------------------- ------------ 8.6/12.3 MB 10.4 MB/s eta 0:00:01\n",
      "   ----------------------------- ---------- 9.0/12.3 MB 10.3 MB/s eta 0:00:01\n",
      "   ------------------------------- -------- 9.6/12.3 MB 10.5 MB/s eta 0:00:01\n",
      "   -------------------------------- ------- 10.1/12.3 MB 10.4 MB/s eta 0:00:01\n",
      "   --------------------------------- ------ 10.5/12.3 MB 10.4 MB/s eta 0:00:01\n",
      "   ----------------------------------- ---- 11.0/12.3 MB 10.4 MB/s eta 0:00:01\n",
      "   ------------------------------------- -- 11.5/12.3 MB 10.4 MB/s eta 0:00:01\n",
      "   ------------------------------------- -- 11.7/12.3 MB 10.4 MB/s eta 0:00:01\n",
      "   ---------------------------------------  12.0/12.3 MB 9.9 MB/s eta 0:00:01\n",
      "   ---------------------------------------  12.3/12.3 MB 9.9 MB/s eta 0:00:01\n",
      "   ---------------------------------------- 12.3/12.3 MB 9.8 MB/s eta 0:00:00\n",
      "Installing collected packages: fsspec, aioitertools, botocore, aiobotocore, s3fs\n",
      "  Attempting uninstall: fsspec\n",
      "    Found existing installation: fsspec 2023.12.2\n",
      "    Uninstalling fsspec-2023.12.2:\n",
      "      Successfully uninstalled fsspec-2023.12.2\n",
      "Successfully installed aiobotocore-2.13.1 aioitertools-0.11.0 botocore-1.34.131 fsspec-2024.3.1 s3fs-2024.6.1\n"
     ]
    }
   ],
   "source": [
    "!pip install s3fs"
   ]
  },
  {
   "cell_type": "code",
   "execution_count": 10,
   "id": "541066c2-181c-4d27-9f26-c3457fcdbe5a",
   "metadata": {},
   "outputs": [],
   "source": [
    "import pandas as pd\n",
    "from kafka import KafkaProducer, KafkaConsumer\n",
    "from time import sleep\n",
    "from json import loads\n",
    "import json\n",
    "from s3fs import S3FileSystem"
   ]
  },
  {
   "cell_type": "code",
   "execution_count": 11,
   "id": "d21acd7f-e319-4cd7-be39-d6609875f03d",
   "metadata": {},
   "outputs": [],
   "source": [
    "consumer = KafkaConsumer('demo_testing2',bootstrap_servers=['13.235.83.110:9092'],\n",
    "                         value_deserializer= lambda x:loads(x.decode('utf-8')))"
   ]
  },
  {
   "cell_type": "code",
   "execution_count": 12,
   "id": "51e08dca-1d9a-44da-80ff-8cf7194cd3fe",
   "metadata": {},
   "outputs": [],
   "source": [
    "s3 = S3FileSystem()"
   ]
  },
  {
   "cell_type": "code",
   "execution_count": null,
   "id": "41446556-fe27-4e11-80a8-399d6f29d357",
   "metadata": {},
   "outputs": [],
   "source": [
    "for count,i in enumerate(consumer):\n",
    "    with s3.open(\"s3://stockio-kafka-bucket/stock_market_{}.json\".format(count):\n",
    "        json.dump(i.value,file)\n",
    "                 \n",
    "    "
   ]
  },
  {
   "cell_type": "code",
   "execution_count": null,
   "id": "0cddf2e7-5faf-4adb-b24a-c0da5858651a",
   "metadata": {},
   "outputs": [],
   "source": []
  }
 ],
 "metadata": {
  "kernelspec": {
   "display_name": "Python 3 (ipykernel)",
   "language": "python",
   "name": "python3"
  },
  "language_info": {
   "codemirror_mode": {
    "name": "ipython",
    "version": 3
   },
   "file_extension": ".py",
   "mimetype": "text/x-python",
   "name": "python",
   "nbconvert_exporter": "python",
   "pygments_lexer": "ipython3",
   "version": "3.10.14"
  }
 },
 "nbformat": 4,
 "nbformat_minor": 5
}
